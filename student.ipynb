{
 "cells": [
  {
   "cell_type": "markdown",
   "metadata": {},
   "source": [
    "## Final Project Submission\n",
    "\n",
    "Please fill out:\n",
    "* Student name: Stella Wanjiru Kiarie\n",
    "* Student pace: full time(Remote)\n",
    "* Scheduled project review date/time: \n",
    "* Instructor name: Nikita Njoroge \n",
    "* Blog post URL:\n"
   ]
  },
  {
   "cell_type": "code",
   "execution_count": 40,
   "metadata": {},
   "outputs": [],
   "source": [
    "# Your code here - remember to use markdown cells for comments as well!"
   ]
  },
  {
   "cell_type": "markdown",
   "metadata": {},
   "source": [
    " ### BUSINESS UNDERSTANDING "
   ]
  },
  {
   "cell_type": "markdown",
   "metadata": {},
   "source": [
    "INTRODUCTION\n",
    " \n",
    "The company is seeking to diversify its operations by acquiring and operating private and commercial aircrafts. In the case, the company seeks data driven insights to determine which aircrafts present the lowest operational risk to venture in."
   ]
  },
  {
   "cell_type": "markdown",
   "metadata": {},
   "source": [
    "In this notebook will  provide intense data cleaning, analysis and visualization to address the business problem of determining the lowest-risk aircraft for the company to venture in within the aviation industry. \n",
    "The goal is to leverage historical aviation accident data to generate insights and recommendations to the Head of the New Aviation Division. The insights should help the business decide on which aircraft to purchase. "
   ]
  },
  {
   "cell_type": "markdown",
   "metadata": {},
   "source": [
    " ### DATA UNDERSTANDING "
   ]
  },
  {
   "cell_type": "markdown",
   "metadata": {},
   "source": [
    "This analysis will be leverage comprehensive aviation dataset provided by the National Transport Safety Board(NTSB)\n",
    "\n",
    "The data collected  from 1962 to 2023\n",
    "File: Aviation_Data csv in the data folder\n",
    "The dataset contains 90348 rows of data and 31 columns to provide content on aviation safety \n",
    "\n",
    "This dataset from NTSB is highly suitable for this project as it provides historical, comprehesive and standard records of aviation accidents and incidents in US and International waters which is directly relevant to this project to determine which aircrafts pose the lowest operational risk. \n",
    "\n",
    "\n",
    "\n",
    "\n",
    "Some essential features in the dataset include \n",
    "\n",
    "        Aircraft Make\n",
    "\n",
    "        Aircraft Model\n",
    "\n",
    "        Injury Severity \n",
    "\n",
    "        Total Fatal Injury\n",
    "\n",
    "        Purpose of Flight\n",
    "        \n",
    "        Aircraft Damage\n",
    "\n",
    "However, the dataset is suitable for the project but has some limitations and implications that must be managed \n",
    "\n",
    "\n",
    "    1. The dataset lacks some operational data. In the case this dataset provides only accident data such as aircraft category by Accident but doesnt not provide content such as total no. of flight hours , total departures for a given make/ model over a period of time\n",
    "\n",
    "    2. Lack of data Consistency:The naming conventions in the aviation industry have changed over time since 1962. There are variations like past years there was a model 737 which changed the convention naming to B737-300 after some time. \n",
    "\n",
    "\n",
    "The steps will be loading dataset, inspecting and understanding the dataset and later to data cleaning, analysis and visualization. "
   ]
  },
  {
   "cell_type": "markdown",
   "metadata": {},
   "source": [
    "## Import Relevant Libraries "
   ]
  },
  {
   "cell_type": "code",
   "execution_count": 41,
   "metadata": {},
   "outputs": [],
   "source": [
    "import pandas as pd\n",
    "import numpy as np\n",
    "import seaborn as sns\n",
    "import matplotlib.pyplot as plt\n",
    "%matplotlib inline "
   ]
  },
  {
   "cell_type": "code",
   "execution_count": 42,
   "metadata": {},
   "outputs": [
    {
     "data": {
      "text/html": [
       "<div>\n",
       "<style scoped>\n",
       "    .dataframe tbody tr th:only-of-type {\n",
       "        vertical-align: middle;\n",
       "    }\n",
       "\n",
       "    .dataframe tbody tr th {\n",
       "        vertical-align: top;\n",
       "    }\n",
       "\n",
       "    .dataframe thead th {\n",
       "        text-align: right;\n",
       "    }\n",
       "</style>\n",
       "<table border=\"1\" class=\"dataframe\">\n",
       "  <thead>\n",
       "    <tr style=\"text-align: right;\">\n",
       "      <th></th>\n",
       "      <th>Event.Id</th>\n",
       "      <th>Investigation.Type</th>\n",
       "      <th>Accident.Number</th>\n",
       "      <th>Event.Date</th>\n",
       "      <th>Location</th>\n",
       "      <th>Country</th>\n",
       "      <th>Latitude</th>\n",
       "      <th>Longitude</th>\n",
       "      <th>Airport.Code</th>\n",
       "      <th>Airport.Name</th>\n",
       "      <th>...</th>\n",
       "      <th>Purpose.of.flight</th>\n",
       "      <th>Air.carrier</th>\n",
       "      <th>Total.Fatal.Injuries</th>\n",
       "      <th>Total.Serious.Injuries</th>\n",
       "      <th>Total.Minor.Injuries</th>\n",
       "      <th>Total.Uninjured</th>\n",
       "      <th>Weather.Condition</th>\n",
       "      <th>Broad.phase.of.flight</th>\n",
       "      <th>Report.Status</th>\n",
       "      <th>Publication.Date</th>\n",
       "    </tr>\n",
       "  </thead>\n",
       "  <tbody>\n",
       "    <tr>\n",
       "      <th>0</th>\n",
       "      <td>20001218X45444</td>\n",
       "      <td>Accident</td>\n",
       "      <td>SEA87LA080</td>\n",
       "      <td>1948-10-24</td>\n",
       "      <td>MOOSE CREEK, ID</td>\n",
       "      <td>United States</td>\n",
       "      <td>NaN</td>\n",
       "      <td>NaN</td>\n",
       "      <td>NaN</td>\n",
       "      <td>NaN</td>\n",
       "      <td>...</td>\n",
       "      <td>Personal</td>\n",
       "      <td>NaN</td>\n",
       "      <td>2.0</td>\n",
       "      <td>0.0</td>\n",
       "      <td>0.0</td>\n",
       "      <td>0.0</td>\n",
       "      <td>UNK</td>\n",
       "      <td>Cruise</td>\n",
       "      <td>Probable Cause</td>\n",
       "      <td>NaN</td>\n",
       "    </tr>\n",
       "    <tr>\n",
       "      <th>1</th>\n",
       "      <td>20001218X45447</td>\n",
       "      <td>Accident</td>\n",
       "      <td>LAX94LA336</td>\n",
       "      <td>1962-07-19</td>\n",
       "      <td>BRIDGEPORT, CA</td>\n",
       "      <td>United States</td>\n",
       "      <td>NaN</td>\n",
       "      <td>NaN</td>\n",
       "      <td>NaN</td>\n",
       "      <td>NaN</td>\n",
       "      <td>...</td>\n",
       "      <td>Personal</td>\n",
       "      <td>NaN</td>\n",
       "      <td>4.0</td>\n",
       "      <td>0.0</td>\n",
       "      <td>0.0</td>\n",
       "      <td>0.0</td>\n",
       "      <td>UNK</td>\n",
       "      <td>Unknown</td>\n",
       "      <td>Probable Cause</td>\n",
       "      <td>19-09-1996</td>\n",
       "    </tr>\n",
       "    <tr>\n",
       "      <th>2</th>\n",
       "      <td>20061025X01555</td>\n",
       "      <td>Accident</td>\n",
       "      <td>NYC07LA005</td>\n",
       "      <td>1974-08-30</td>\n",
       "      <td>Saltville, VA</td>\n",
       "      <td>United States</td>\n",
       "      <td>36.922223</td>\n",
       "      <td>-81.878056</td>\n",
       "      <td>NaN</td>\n",
       "      <td>NaN</td>\n",
       "      <td>...</td>\n",
       "      <td>Personal</td>\n",
       "      <td>NaN</td>\n",
       "      <td>3.0</td>\n",
       "      <td>NaN</td>\n",
       "      <td>NaN</td>\n",
       "      <td>NaN</td>\n",
       "      <td>IMC</td>\n",
       "      <td>Cruise</td>\n",
       "      <td>Probable Cause</td>\n",
       "      <td>26-02-2007</td>\n",
       "    </tr>\n",
       "    <tr>\n",
       "      <th>3</th>\n",
       "      <td>20001218X45448</td>\n",
       "      <td>Accident</td>\n",
       "      <td>LAX96LA321</td>\n",
       "      <td>1977-06-19</td>\n",
       "      <td>EUREKA, CA</td>\n",
       "      <td>United States</td>\n",
       "      <td>NaN</td>\n",
       "      <td>NaN</td>\n",
       "      <td>NaN</td>\n",
       "      <td>NaN</td>\n",
       "      <td>...</td>\n",
       "      <td>Personal</td>\n",
       "      <td>NaN</td>\n",
       "      <td>2.0</td>\n",
       "      <td>0.0</td>\n",
       "      <td>0.0</td>\n",
       "      <td>0.0</td>\n",
       "      <td>IMC</td>\n",
       "      <td>Cruise</td>\n",
       "      <td>Probable Cause</td>\n",
       "      <td>12-09-2000</td>\n",
       "    </tr>\n",
       "    <tr>\n",
       "      <th>4</th>\n",
       "      <td>20041105X01764</td>\n",
       "      <td>Accident</td>\n",
       "      <td>CHI79FA064</td>\n",
       "      <td>1979-08-02</td>\n",
       "      <td>Canton, OH</td>\n",
       "      <td>United States</td>\n",
       "      <td>NaN</td>\n",
       "      <td>NaN</td>\n",
       "      <td>NaN</td>\n",
       "      <td>NaN</td>\n",
       "      <td>...</td>\n",
       "      <td>Personal</td>\n",
       "      <td>NaN</td>\n",
       "      <td>1.0</td>\n",
       "      <td>2.0</td>\n",
       "      <td>NaN</td>\n",
       "      <td>0.0</td>\n",
       "      <td>VMC</td>\n",
       "      <td>Approach</td>\n",
       "      <td>Probable Cause</td>\n",
       "      <td>16-04-1980</td>\n",
       "    </tr>\n",
       "  </tbody>\n",
       "</table>\n",
       "<p>5 rows × 31 columns</p>\n",
       "</div>"
      ],
      "text/plain": [
       "         Event.Id Investigation.Type Accident.Number  Event.Date  \\\n",
       "0  20001218X45444           Accident      SEA87LA080  1948-10-24   \n",
       "1  20001218X45447           Accident      LAX94LA336  1962-07-19   \n",
       "2  20061025X01555           Accident      NYC07LA005  1974-08-30   \n",
       "3  20001218X45448           Accident      LAX96LA321  1977-06-19   \n",
       "4  20041105X01764           Accident      CHI79FA064  1979-08-02   \n",
       "\n",
       "          Location        Country   Latitude   Longitude Airport.Code  \\\n",
       "0  MOOSE CREEK, ID  United States        NaN         NaN          NaN   \n",
       "1   BRIDGEPORT, CA  United States        NaN         NaN          NaN   \n",
       "2    Saltville, VA  United States  36.922223  -81.878056          NaN   \n",
       "3       EUREKA, CA  United States        NaN         NaN          NaN   \n",
       "4       Canton, OH  United States        NaN         NaN          NaN   \n",
       "\n",
       "  Airport.Name  ... Purpose.of.flight Air.carrier Total.Fatal.Injuries  \\\n",
       "0          NaN  ...          Personal         NaN                  2.0   \n",
       "1          NaN  ...          Personal         NaN                  4.0   \n",
       "2          NaN  ...          Personal         NaN                  3.0   \n",
       "3          NaN  ...          Personal         NaN                  2.0   \n",
       "4          NaN  ...          Personal         NaN                  1.0   \n",
       "\n",
       "  Total.Serious.Injuries Total.Minor.Injuries Total.Uninjured  \\\n",
       "0                    0.0                  0.0             0.0   \n",
       "1                    0.0                  0.0             0.0   \n",
       "2                    NaN                  NaN             NaN   \n",
       "3                    0.0                  0.0             0.0   \n",
       "4                    2.0                  NaN             0.0   \n",
       "\n",
       "  Weather.Condition  Broad.phase.of.flight   Report.Status Publication.Date  \n",
       "0               UNK                 Cruise  Probable Cause              NaN  \n",
       "1               UNK                Unknown  Probable Cause       19-09-1996  \n",
       "2               IMC                 Cruise  Probable Cause       26-02-2007  \n",
       "3               IMC                 Cruise  Probable Cause       12-09-2000  \n",
       "4               VMC               Approach  Probable Cause       16-04-1980  \n",
       "\n",
       "[5 rows x 31 columns]"
      ]
     },
     "execution_count": 42,
     "metadata": {},
     "output_type": "execute_result"
    }
   ],
   "source": [
    "#Loading dataset in csv format \n",
    "aviation=pd.read_csv('data/Aviation_Data.csv', encoding='latin-1', low_memory=False)\n",
    "aviation.head()"
   ]
  },
  {
   "cell_type": "code",
   "execution_count": 43,
   "metadata": {},
   "outputs": [
    {
     "data": {
      "text/plain": [
       "(90348, 31)"
      ]
     },
     "execution_count": 43,
     "metadata": {},
     "output_type": "execute_result"
    }
   ],
   "source": [
    "#The number of rows and columns in the dataset\n",
    "aviation.shape"
   ]
  },
  {
   "cell_type": "code",
   "execution_count": 44,
   "metadata": {},
   "outputs": [
    {
     "data": {
      "text/plain": [
       "Index(['Event.Id', 'Investigation.Type', 'Accident.Number', 'Event.Date',\n",
       "       'Location', 'Country', 'Latitude', 'Longitude', 'Airport.Code',\n",
       "       'Airport.Name', 'Injury.Severity', 'Aircraft.damage',\n",
       "       'Aircraft.Category', 'Registration.Number', 'Make', 'Model',\n",
       "       'Amateur.Built', 'Number.of.Engines', 'Engine.Type', 'FAR.Description',\n",
       "       'Schedule', 'Purpose.of.flight', 'Air.carrier', 'Total.Fatal.Injuries',\n",
       "       'Total.Serious.Injuries', 'Total.Minor.Injuries', 'Total.Uninjured',\n",
       "       'Weather.Condition', 'Broad.phase.of.flight', 'Report.Status',\n",
       "       'Publication.Date'],\n",
       "      dtype='object')"
      ]
     },
     "execution_count": 44,
     "metadata": {},
     "output_type": "execute_result"
    }
   ],
   "source": [
    "# Take a look at the columns in the dataset\n",
    "aviation.columns"
   ]
  },
  {
   "cell_type": "code",
   "execution_count": 45,
   "metadata": {},
   "outputs": [],
   "source": [
    "#Drop columns that are irrelevant in achieving the data analysis objectives \n",
    "aviation.drop(['Event.Id', 'Accident.Number', 'Event.Date',\n",
    "        'Location', 'Country', 'Latitude', 'Longitude', 'Airport.Code',\n",
    "        'Airport.Name', 'Registration.Number','Amateur.Built','FAR.Description',\n",
    "        'Schedule', 'Air.carrier','Broad.phase.of.flight', 'Report.Status',\n",
    "        'Publication.Date'], \n",
    "        axis=1, \n",
    "        inplace=True)"
   ]
  },
  {
   "cell_type": "code",
   "execution_count": 46,
   "metadata": {},
   "outputs": [
    {
     "data": {
      "text/plain": [
       "Index(['Investigation.Type', 'Injury.Severity', 'Aircraft.damage',\n",
       "       'Aircraft.Category', 'Make', 'Model', 'Number.of.Engines',\n",
       "       'Engine.Type', 'Purpose.of.flight', 'Total.Fatal.Injuries',\n",
       "       'Total.Serious.Injuries', 'Total.Minor.Injuries', 'Total.Uninjured',\n",
       "       'Weather.Condition'],\n",
       "      dtype='object')"
      ]
     },
     "execution_count": 46,
     "metadata": {},
     "output_type": "execute_result"
    }
   ],
   "source": [
    "#Checking missing values for the remaining columns \n",
    "aviation.columns"
   ]
  },
  {
   "cell_type": "code",
   "execution_count": 47,
   "metadata": {},
   "outputs": [
    {
     "data": {
      "text/plain": [
       "Investigation.Type            0\n",
       "Injury.Severity            2459\n",
       "Aircraft.damage            4653\n",
       "Aircraft.Category         58061\n",
       "Make                       1522\n",
       "Model                      1551\n",
       "Number.of.Engines          7543\n",
       "Engine.Type                8536\n",
       "Purpose.of.flight          7651\n",
       "Total.Fatal.Injuries      12860\n",
       "Total.Serious.Injuries    13969\n",
       "Total.Minor.Injuries      13392\n",
       "Total.Uninjured            7371\n",
       "Weather.Condition          5951\n",
       "dtype: int64"
      ]
     },
     "execution_count": 47,
     "metadata": {},
     "output_type": "execute_result"
    }
   ],
   "source": [
    "# Checking the total sum of missing values in columns \n",
    "aviation.isna().sum()\n"
   ]
  },
  {
   "cell_type": "code",
   "execution_count": 48,
   "metadata": {},
   "outputs": [
    {
     "name": "stdout",
     "output_type": "stream",
     "text": [
      "Investigation.Type \n",
      " Accident      0.940973\n",
      "Incident      0.042879\n",
      "25-09-2020    0.007770\n",
      "26-09-2020    0.000664\n",
      "02-02-2021    0.000432\n",
      "Name: Investigation.Type, dtype: float64 \n",
      "\n",
      "\n",
      "Injury.Severity \n",
      " Non-Fatal    0.766387\n",
      "Fatal(1)     0.070168\n",
      "Fatal        0.059871\n",
      "Fatal(2)     0.042224\n",
      "Incident     0.025248\n",
      "Name: Injury.Severity, dtype: float64 \n",
      "\n",
      "\n",
      "Aircraft.damage \n",
      " Substantial    0.748562\n",
      "Destroyed      0.217317\n",
      "Minor          0.032732\n",
      "Unknown        0.001389\n",
      "Name: Aircraft.damage, dtype: float64 \n",
      "\n",
      "\n",
      "Aircraft.Category \n",
      " Airplane      0.855360\n",
      "Helicopter    0.106544\n",
      "Glider        0.015734\n",
      "Balloon       0.007155\n",
      "Gyrocraft     0.005358\n",
      "Name: Aircraft.Category, dtype: float64 \n",
      "\n",
      "\n",
      "Make \n",
      " Cessna    0.250231\n",
      "Piper     0.135422\n",
      "CESSNA    0.055412\n",
      "Beech     0.048747\n",
      "PIPER     0.031984\n",
      "Name: Make, dtype: float64 \n",
      "\n",
      "\n",
      "Model \n",
      " 152          0.026656\n",
      "172          0.019775\n",
      "172N         0.013109\n",
      "PA-28-140    0.010496\n",
      "150          0.009336\n",
      "Name: Model, dtype: float64 \n",
      "\n",
      "\n",
      "Number.of.Engines \n",
      " 1.0    0.840312\n",
      "2.0    0.133796\n",
      "0.0    0.014806\n",
      "3.0    0.005833\n",
      "4.0    0.005205\n",
      "Name: Number.of.Engines, dtype: float64 \n",
      "\n",
      "\n",
      "Engine.Type \n",
      " Reciprocating    0.849875\n",
      "Turbo Shaft      0.044113\n",
      "Turbo Prop       0.041449\n",
      "Turbo Fan        0.030326\n",
      "Unknown          0.025070\n",
      "Name: Engine.Type, dtype: float64 \n",
      "\n",
      "\n",
      "Purpose.of.flight \n",
      " Personal              0.597942\n",
      "Instructional         0.128191\n",
      "Unknown               0.082252\n",
      "Aerial Application    0.056979\n",
      "Business              0.048587\n",
      "Name: Purpose.of.flight, dtype: float64 \n",
      "\n",
      "\n",
      "Total.Fatal.Injuries \n",
      " 0.0    0.770119\n",
      "1.0    0.114637\n",
      "2.0    0.066759\n",
      "3.0    0.020506\n",
      "4.0    0.014234\n",
      "Name: Total.Fatal.Injuries, dtype: float64 \n",
      "\n",
      "\n",
      "Total.Serious.Injuries \n",
      " 0.0    0.828618\n",
      "1.0    0.119470\n",
      "2.0    0.036856\n",
      "3.0    0.008235\n",
      "4.0    0.003378\n",
      "Name: Total.Serious.Injuries, dtype: float64 \n",
      "\n",
      "\n",
      "Total.Minor.Injuries \n",
      " 0.0    0.798560\n",
      "1.0    0.134103\n",
      "2.0    0.046468\n",
      "3.0    0.010188\n",
      "4.0    0.004834\n",
      "Name: Total.Minor.Injuries, dtype: float64 \n",
      "\n",
      "\n",
      "Total.Uninjured \n",
      " 0.0    0.360088\n",
      "1.0    0.302506\n",
      "2.0    0.192680\n",
      "3.0    0.051978\n",
      "4.0    0.032081\n",
      "Name: Total.Uninjured, dtype: float64 \n",
      "\n",
      "\n",
      "Weather.Condition \n",
      " VMC    0.915945\n",
      "IMC    0.070808\n",
      "UNK    0.010143\n",
      "Unk    0.003104\n",
      "Name: Weather.Condition, dtype: float64 \n",
      "\n",
      "\n"
     ]
    }
   ],
   "source": [
    "#Lets iterate over every column and calculate the relative frequency of the top five common values. \n",
    "#An important step in Exploratory Data Analysis. \n",
    "for col in aviation.columns:\n",
    "    print(col, '\\n', aviation[col].value_counts(normalize=True).head(), '\\n\\n')"
   ]
  },
  {
   "cell_type": "markdown",
   "metadata": {},
   "source": [
    "## Dealing with Missing values "
   ]
  },
  {
   "cell_type": "code",
   "execution_count": 49,
   "metadata": {},
   "outputs": [
    {
     "data": {
      "text/plain": [
       "array(['Reciprocating', nan, 'Turbo Fan', 'Turbo Shaft', 'Unknown',\n",
       "       'Turbo Prop', 'Turbo Jet', 'None', 'Electric', 'Hybrid Rocket',\n",
       "       'Geared Turbofan', 'LR', 'NONE', 'UNK'], dtype=object)"
      ]
     },
     "execution_count": 49,
     "metadata": {},
     "output_type": "execute_result"
    }
   ],
   "source": [
    "# Lets deal with Categorical columns \n",
    "#1. Engine type column \n",
    "aviation['Engine.Type'].unique()\n",
    "# there placeholder values ['nan',None,NONE,UNK,Unknown]"
   ]
  },
  {
   "cell_type": "markdown",
   "metadata": {},
   "source": []
  },
  {
   "cell_type": "code",
   "execution_count": 50,
   "metadata": {},
   "outputs": [],
   "source": [
    "#Fill missing values in Engine type column with unknown\n",
    "aviation['Engine.Type'].fillna(value='NOT KNOWN', inplace=True)\n"
   ]
  },
  {
   "cell_type": "code",
   "execution_count": 51,
   "metadata": {},
   "outputs": [],
   "source": [
    "#Lets replace the placeholders \"Unknown,nan,None,NONE and UNK\" with 'NOT KNOWN'\n",
    "aviation['Engine.Type']=aviation['Engine.Type'].map(lambda x: 'NOT KNOWN'if  x=='UNK' or x == 'None' or x == 'NONE' else x)"
   ]
  },
  {
   "cell_type": "code",
   "execution_count": 52,
   "metadata": {},
   "outputs": [],
   "source": [
    "#Lets execute the Purpose of flight and Aircraft Damage columns\n",
    "#By imputing nan values with NOT KNOWN\n",
    "# Assuming your DataFrame is named 'df'\n",
    "aviation['Purpose.of.flight'].fillna(value='NOT KNOWN', inplace=True)\n",
    "aviation['Aircraft.damage'].fillna(value='NOT KNOWN', inplace=True)\n",
    "aviation['Aircraft.damage'] = aviation['Aircraft.damage'].map(lambda x: 'NOT KNOWN' if x == 'Unknown' else x)"
   ]
  },
  {
   "cell_type": "code",
   "execution_count": 53,
   "metadata": {},
   "outputs": [],
   "source": [
    "#since the make and model category hae small amount of missing values\n",
    "#Lets drop missing rows in the columns\n",
    "aviation=aviation.dropna(subset=['Make','Model'])"
   ]
  },
  {
   "cell_type": "code",
   "execution_count": 54,
   "metadata": {},
   "outputs": [
    {
     "data": {
      "text/plain": [
       "<bound method Series.unique of 0        UNK\n",
       "1        UNK\n",
       "2        IMC\n",
       "3        IMC\n",
       "4        VMC\n",
       "        ... \n",
       "90343    NaN\n",
       "90344    NaN\n",
       "90345    VMC\n",
       "90346    NaN\n",
       "90347    NaN\n",
       "Name: Weather.Condition, Length: 88777, dtype: object>"
      ]
     },
     "execution_count": 54,
     "metadata": {},
     "output_type": "execute_result"
    }
   ],
   "source": [
    "# FILL nan values in the weather column with NOT KNOWN\n",
    "aviation['Weather.Condition'].unique"
   ]
  },
  {
   "cell_type": "code",
   "execution_count": 55,
   "metadata": {},
   "outputs": [],
   "source": [
    "#There are place holders values \"UNK\" and Unk\n",
    "#Will replace the placeholder values with NOT KNOWN\n",
    "aviation['Weather.Condition'].fillna(value='NOT KNOWN', inplace=True)"
   ]
  },
  {
   "cell_type": "code",
   "execution_count": 56,
   "metadata": {},
   "outputs": [],
   "source": [
    "aviation['Weather.Condition']=aviation['Weather.Condition'].map(lambda x: 'NOT KNOWN' if x =='Unk' or x==\"UNK\" else x)"
   ]
  },
  {
   "cell_type": "code",
   "execution_count": 57,
   "metadata": {},
   "outputs": [
    {
     "data": {
      "text/plain": [
       "Airplane    27580\n",
       "Name: Aircraft.Category, dtype: int64"
      ]
     },
     "execution_count": 57,
     "metadata": {},
     "output_type": "execute_result"
    }
   ],
   "source": [
    "aviation= aviation[aviation['Aircraft.Category']=='Airplane']\n",
    "aviation['Aircraft.Category'].value_counts()"
   ]
  },
  {
   "cell_type": "markdown",
   "metadata": {},
   "source": [
    "# IMPUTING MISSING VALUES IN THE NUMERIC COLUMNS WITH THEIR MEDIAN "
   ]
  },
  {
   "cell_type": "code",
   "execution_count": 58,
   "metadata": {},
   "outputs": [],
   "source": [
    "#Lets deal with the numeric Categories \n",
    "#Number of engines, Total serious injuries, total minor injuries, total uninjured \n",
    "aviation.fillna(value=aviation['Number.of.Engines'].median(),inplace=True)\n",
    "aviation.fillna(value=aviation['Total.Serious.Injuries'].median(),inplace=True)\n",
    "aviation.fillna(value=aviation['Total.Minor.Injuries'].median(),inplace=True)\n",
    "aviation.fillna(value=aviation['Total.Uninjured'].median(),inplace=True)\n",
    "aviation.fillna(value=aviation['Total.Fatal.Injuries'].median(),inplace=True)"
   ]
  },
  {
   "cell_type": "code",
   "execution_count": 59,
   "metadata": {},
   "outputs": [],
   "source": [
    "#Lets Standardize the make and model columns \n",
    "aviation['Make'] = aviation['Make'].str.title()\n",
    "aviation['Model'] = aviation['Model'].str.title() "
   ]
  },
  {
   "cell_type": "markdown",
   "metadata": {},
   "source": [
    " ## DATA ANALYSIS "
   ]
  },
  {
   "cell_type": "markdown",
   "metadata": {},
   "source": [
    "## Which makes are more prone to fatal injuries?\n"
   ]
  },
  {
   "cell_type": "code",
   "execution_count": 60,
   "metadata": {},
   "outputs": [
    {
     "data": {
      "image/png": "[encoded data removed]",
      "text/plain": [
       "<Figure size 864x504 with 1 Axes>"
      ]
     },
     "metadata": {
      "needs_background": "light"
     },
     "output_type": "display_data"
    }
   ],
   "source": [
    "#Group by Airplane Make by the Total.Fatal.Injuries \n",
    "fatal_injuries_by_make = (\n",
    "    aviation.groupby('Make')['Total.Fatal.Injuries']\n",
    "    .sum()\n",
    "    .sort_values(ascending=False)\n",
    "    .head(10)\n",
    ")\n",
    "#Visualizing a bar chart\n",
    "plt.figure(figsize=(12, 7))\n",
    "bars = plt.bar(\n",
    "    fatal_injuries_by_make.index,\n",
    "    fatal_injuries_by_make.values,\n",
    "    color='skyblue',\n",
    "    edgecolor='black'\n",
    ")\n",
    "plt.title(\n",
    "    'Top 10 Aircraft Makes by Total Fatal Injuries',\n",
    "    fontsize=16,\n",
    "    fontweight='bold'\n",
    ")\n",
    "plt.xlabel('Aircraft Make', fontsize=12)\n",
    "plt.ylabel('Total Fatal Injuries Count', fontsize=12)\n",
    "plt.xticks(rotation=45, ha='right')\n",
    "plt.tight_layout()\n",
    "plt.show()\n",
    "\n"
   ]
  },
  {
   "cell_type": "markdown",
   "metadata": {},
   "source": [
    "## Insights gained\n",
    " The bar chart analyzes the top 10 makes by total fatal injuries. From the chart. It is  clear that CESSNA has the highest risk of fatality incase an acident occurs.  On the other hand, FOKKER has the lowest risk to fatality incase an accident occurs. \n",
    "\n",
    "## Recommendation \n",
    " \n",
    "It is recommended that the company invests in Aircrafts makes such as DE HAVILLAND Aand FOKKER which have a lower risk of fatality\n"
   ]
  },
  {
   "cell_type": "markdown",
   "metadata": {},
   "source": [
    " # Insight 2: Number of Fatal Injuries by Purpose of Flight"
   ]
  },
  {
   "cell_type": "code",
   "execution_count": 61,
   "metadata": {},
   "outputs": [
    {
     "data": {
      "image/png": "[encoded data removed]",
      "text/plain": [
       "<Figure size 720x576 with 1 Axes>"
      ]
     },
     "metadata": {
      "needs_background": "light"
     },
     "output_type": "display_data"
    }
   ],
   "source": [
    "# Grouping Purpose of flights by The total fatal injuries \n",
    "fatal_injuries_by_purpose = (\n",
    "    aviation.groupby('Purpose.of.flight')['Total.Fatal.Injuries']\n",
    "    .sum()\n",
    "    .sort_values(ascending=True)\n",
    ")\n",
    "plt.figure(figsize=(10, 8))\n",
    "bars = plt.barh(\n",
    "    fatal_injuries_by_purpose.index,\n",
    "    fatal_injuries_by_purpose.values,\n",
    "    color='Orange',\n",
    "    edgecolor='darkslategray'\n",
    ")\n",
    "plt.title(\n",
    "    'Total Fatal Injuries by Purpose of Flight',\n",
    "    fontsize=16,\n",
    "    fontweight='bold',\n",
    "    pad=20\n",
    ")\n",
    "plt.xlabel('Total Fatal Injuries Count', fontsize=12)\n",
    "plt.ylabel('Purpose of Flight', fontsize=12)\n",
    "plt.grid(axis='x', linestyle='--', alpha=0.6)\n",
    "plt.tight_layout()\n",
    "plt.show()\n"
   ]
  },
  {
   "cell_type": "markdown",
   "metadata": {},
   "source": [
    "## "
   ]
  },
  {
   "cell_type": "markdown",
   "metadata": {},
   "source": [
    "## Insights Gained \n",
    "\n",
    "From the chart above, it is evident that Aircrafts used for personal purpose have the highest risk to fatal injuries. Hence its not recommended for the company to venture in aircrafts for personal and private use. \n",
    "\n",
    "Recommendation\n",
    "The company company to the aviation industry for commercial purposes, either for ASHO, as  Public crafts  and also for business purposes since their risks to fatal injuries is low"
   ]
  },
  {
   "cell_type": "markdown",
   "metadata": {},
   "source": [
    "## How is the Aircraft Type based on their engine Type? For the company to decide on which engines to invest on "
   ]
  },
  {
   "cell_type": "code",
   "execution_count": 62,
   "metadata": {},
   "outputs": [
    {
     "data": {
      "image/png": "[encoded data removed]",
      "text/plain": [
       "<Figure size 864x504 with 1 Axes>"
      ]
     },
     "metadata": {
      "needs_background": "light"
     },
     "output_type": "display_data"
    }
   ],
   "source": [
    "#  Identify the Top 10 Most Frequent Engine Types\n",
    "top_10_engines = aviation['Engine.Type'].value_counts().head(10).index\n",
    "df_filtered = aviation[aviation['Engine.Type'].isin(top_10_engines)]\n",
    "risk_data_top_10 = pd.crosstab(\n",
    "    df_filtered['Engine.Type'],\n",
    "    df_filtered['Aircraft.damage'],\n",
    "    normalize='index'\n",
    ") * 100\n",
    "risk_data_top_10.plot(\n",
    "    kind='bar',\n",
    "    stacked=True,\n",
    "    figsize=(12, 7) \n",
    ")\n",
    "plt.title(\n",
    "    'Top 10 Engine Types: Aircraft Damage Risk Assessment',\n",
    "    fontsize=14,\n",
    "    fontweight='bold'\n",
    ")\n",
    "plt.ylabel('Percentage of Damage (%)', fontsize=12)\n",
    "plt.xlabel('Engine Type', fontsize=12)\n",
    "plt.xticks(rotation=45, ha='right') # Rotate for better visibility of the 10 labels\n",
    "plt.legend(title='Damage Severity', bbox_to_anchor=(1.05, 1), loc='upper left')\n",
    "plt.tight_layout()\n",
    "plt.show()"
   ]
  },
  {
   "cell_type": "markdown",
   "metadata": {},
   "source": [
    "## Insights Gained \n",
    "\n",
    " From the chart above, Reciprocating engine have the highest risk of Aircraft damage hence not a good venture to dive in. Similar engines such as Electric,Turbo Prop and Turbo Shaft have high substastial damage. Air crafts with Turbo fan engines are highly recommended "
   ]
  },
  {
   "cell_type": "markdown",
   "metadata": {},
   "source": [
    "## Exporting the cleaned dataset to  csv "
   ]
  },
  {
   "cell_type": "code",
   "execution_count": 63,
   "metadata": {},
   "outputs": [],
   "source": [
    "aviation.to_csv('cleaned_data.csv', index=False)"
   ]
  }
 ],
 "metadata": {
  "kernelspec": {
   "display_name": "Python (learn-env)",
   "language": "python",
   "name": "learn-env"
  },
  "language_info": {
   "codemirror_mode": {
    "name": "ipython",
    "version": 3
   },
   "file_extension": ".py",
   "mimetype": "text/x-python",
   "name": "python",
   "nbconvert_exporter": "python",
   "pygments_lexer": "ipython3",
   "version": "3.8.5"
  }
 },
 "nbformat": 4,
 "nbformat_minor": 2
}
